{
 "cells": [
  {
   "cell_type": "code",
   "execution_count": 12,
   "metadata": {
    "scrolled": true
   },
   "outputs": [
    {
     "name": "stdout",
     "output_type": "stream",
     "text": [
      "13.98777961730957\n"
     ]
    }
   ],
   "source": [
    "from time import time\n",
    "\n",
    "b = time()\n",
    "x = 10000\n",
    "for i in range (x):\n",
    "    a = [['00', '01'], ['10', '11']]\n",
    "    for row in a:\n",
    "        for col in row:\n",
    "            pass\n",
    "            #print(col)\n",
    "e = time()\n",
    "print((e - b) * 1000)"
   ]
  },
  {
   "cell_type": "code",
   "execution_count": 13,
   "metadata": {},
   "outputs": [
    {
     "name": "stdout",
     "output_type": "stream",
     "text": [
      "16.695261001586914\n"
     ]
    }
   ],
   "source": [
    "from time import time\n",
    "from itertools import chain\n",
    "\n",
    "b = time()\n",
    "x = 10000\n",
    "for i in range (x):\n",
    "    a = [['00', '01'], ['10', '11']]\n",
    "    l = chain.from_iterable(a)\n",
    "    for line in l:\n",
    "        pass\n",
    "e = time()\n",
    "print((e - b) * 1000)"
   ]
  },
  {
   "cell_type": "code",
   "execution_count": 7,
   "metadata": {},
   "outputs": [
    {
     "ename": "SyntaxError",
     "evalue": "invalid syntax (<ipython-input-7-927bfff21b28>, line 7)",
     "output_type": "error",
     "traceback": [
      "\u001b[1;36m  File \u001b[1;32m\"<ipython-input-7-927bfff21b28>\"\u001b[1;36m, line \u001b[1;32m7\u001b[0m\n\u001b[1;33m    (for col in row) for row in a:\u001b[0m\n\u001b[1;37m       ^\u001b[0m\n\u001b[1;31mSyntaxError\u001b[0m\u001b[1;31m:\u001b[0m invalid syntax\n"
     ]
    }
   ],
   "source": [
    "from time import time\n",
    "\n",
    "b = time()\n",
    "x = 10000\n",
    "for i in range (x):\n",
    "    a = [['00', '01'], ['10', '11']]\n",
    "    (for col in row) for row in a:\n",
    "        print(col)\n",
    "e = time()\n",
    "print((e - b) * 1000)"
   ]
  },
  {
   "cell_type": "code",
   "execution_count": 34,
   "metadata": {},
   "outputs": [
    {
     "name": "stdout",
     "output_type": "stream",
     "text": [
      "6.993293762207031\n"
     ]
    }
   ],
   "source": [
    "from time import time\n",
    "b = time()\n",
    "x = 10000\n",
    "a = 'hello world'\n",
    "for i in range(x):\n",
    "    a += \"aaaaaaa\"\n",
    "e = time()\n",
    "print((e - b) * 1000)"
   ]
  },
  {
   "cell_type": "code",
   "execution_count": 6,
   "metadata": {},
   "outputs": [
    {
     "name": "stdout",
     "output_type": "stream",
     "text": [
      "<generator object <genexpr> at 0x000001A40CC97BC8>\n",
      "1.0056495666503906\n"
     ]
    }
   ],
   "source": [
    "from time import time\n",
    "b = time()\n",
    "a = [['00', '01'], ['10', '11']]\n",
    "print(' '.join(map(str, x)) for x in a)\n",
    "e = time()\n",
    "print((e - b) * 1000)"
   ]
  }
 ],
 "metadata": {
  "kernelspec": {
   "display_name": "Python 3",
   "language": "python",
   "name": "python3"
  },
  "language_info": {
   "codemirror_mode": {
    "name": "ipython",
    "version": 3
   },
   "file_extension": ".py",
   "mimetype": "text/x-python",
   "name": "python",
   "nbconvert_exporter": "python",
   "pygments_lexer": "ipython3",
   "version": "3.7.5"
  }
 },
 "nbformat": 4,
 "nbformat_minor": 2
}
